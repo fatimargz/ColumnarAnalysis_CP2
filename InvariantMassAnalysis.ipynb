{
 "cells": [
  {
   "cell_type": "code",
   "execution_count": 19,
   "id": "dc1c043a-5439-4cb4-b935-4c9b9a2c784c",
   "metadata": {},
   "outputs": [],
   "source": [
    "import uproot\n",
    "import awkward as ak\n",
    "import numpy as np"
   ]
  },
  {
   "cell_type": "code",
   "execution_count": 20,
   "id": "8304287a-bfb4-44af-a79d-42718181c040",
   "metadata": {},
   "outputs": [],
   "source": [
    "# open file\n",
    "# https://opendata.cern.ch/record/80017 (ttbar)\n",
    "file = uproot.open(\"DAOD_PHYSLITE.37621239._000001.pool.root.1\")"
   ]
  },
  {
   "cell_type": "markdown",
   "id": "b8ba9ee5-a491-4011-907e-3a08ff85c5bc",
   "metadata": {},
   "source": [
    "### Get to know your data\n",
    "What objects are in this file? What's the name of the ttree? "
   ]
  },
  {
   "cell_type": "code",
   "execution_count": 56,
   "id": "1a0fc10c-87b8-4523-a77c-92cfef3dca8e",
   "metadata": {},
   "outputs": [],
   "source": [
    "#file.keys()"
   ]
  },
  {
   "cell_type": "code",
   "execution_count": 40,
   "id": "39261ea5-bfcd-4a89-8666-95b75eb2ab0b",
   "metadata": {},
   "outputs": [],
   "source": [
    "# accessing ttree\n",
    "# tree = file[\"insert_tree_name_here\"]\n",
    "tree = file[\"CollectionTree\"]"
   ]
  },
  {
   "cell_type": "markdown",
   "id": "e774fc15-f269-477e-8b71-56bf5ea2bd69",
   "metadata": {},
   "source": [
    "How many events are in this ttree? "
   ]
  },
  {
   "cell_type": "code",
   "execution_count": 41,
   "id": "41c7fdff-38fa-4458-a778-3160fb751391",
   "metadata": {},
   "outputs": [
    {
     "name": "stdout",
     "output_type": "stream",
     "text": [
      "Number of events: 1426\n"
     ]
    }
   ],
   "source": [
    "#len(tree)\n",
    "#tree.keys()\n",
    "#tree.show()\n",
    "print(\"Number of events:\", len(tree))"
   ]
  },
  {
   "cell_type": "markdown",
   "id": "f18edbb6-6732-404c-9c7b-fb9469181a8a",
   "metadata": {},
   "source": [
    "We can read TBranches as arrays using tree.arrays([insert_list_of_branch_names_here]). Fill in the blanks associated with Muons."
   ]
  },
  {
   "cell_type": "code",
   "execution_count": 42,
   "id": "0696f3cf-13bb-49b5-ba52-6d50320a26b6",
   "metadata": {},
   "outputs": [],
   "source": [
    "Electrons = tree.arrays([\"AnalysisElectronsAuxDyn.charge\", \"AnalysisElectronsAuxDyn.pt\",\"AnalysisElectronsAuxDyn.eta\", \"AnalysisElectronsAuxDyn.phi\",\"AnalysisElectronsAuxDyn.m\"])\n",
    "# Muons = tree.arrays([...])\n",
    "Muons = tree.arrays([\"AnalysisMuonsAuxDyn.charge\", \"AnalysisMuonsAuxDyn.pt\",\"AnalysisMuonsAuxDyn.eta\", \"AnalysisMuonsAuxDyn.phi\"])"
   ]
  },
  {
   "cell_type": "markdown",
   "id": "5a2c373b-69b0-4723-8f09-4580f6e2c8ca",
   "metadata": {},
   "source": [
    "[give some explanation about event ordering] How many electrons are in the 15th event? What are their charges. How many muons are in the 15th event? What are their charges?"
   ]
  },
  {
   "cell_type": "code",
   "execution_count": 73,
   "id": "0c3a0dac-01d5-4310-8a75-b18dd3f71f65",
   "metadata": {},
   "outputs": [
    {
     "data": {
      "text/html": [
       "<pre>[1,\n",
       " 1,\n",
       " 1]\n",
       "-----------------\n",
       "type: 3 * float32</pre>"
      ],
      "text/plain": [
       "<Array [1, 1, 1] type='3 * float32'>"
      ]
     },
     "execution_count": 73,
     "metadata": {},
     "output_type": "execute_result"
    }
   ],
   "source": [
    "# 3 electrons with charges:\n",
    "Electrons[\"AnalysisElectronsAuxDyn.charge\"][14]"
   ]
  },
  {
   "cell_type": "code",
   "execution_count": 75,
   "id": "c8dbcc62-6f66-4fbe-ba71-9e5abb6e2625",
   "metadata": {},
   "outputs": [
    {
     "data": {
      "text/html": [
       "<pre>[1]\n",
       "-----------------\n",
       "type: 1 * float32</pre>"
      ],
      "text/plain": [
       "<Array [1] type='1 * float32'>"
      ]
     },
     "execution_count": 75,
     "metadata": {},
     "output_type": "execute_result"
    }
   ],
   "source": [
    "# 1 muon with charge:\n",
    "Muons[\"AnalysisMuonsAuxDyn.charge\"][14]"
   ]
  },
  {
   "cell_type": "markdown",
   "id": "5deeaf92-5088-4533-8d8b-f7e479a08003",
   "metadata": {},
   "source": [
    "## Ready for analysis\n",
    "To make our lives easier, ak.zip combines arrays into a single structure as a collection of records. "
   ]
  },
  {
   "cell_type": "code",
   "execution_count": 51,
   "id": "c8b60945-4dd4-486b-bd62-038e153fff09",
   "metadata": {},
   "outputs": [],
   "source": [
    "e = ak.zip({\n",
    "    \"pt\" : Electrons[\"AnalysisElectronsAuxDyn.pt\"],\n",
    "    \"eta\" : Electrons[\"AnalysisElectronsAuxDyn.eta\"],\n",
    "    \"phi\" : Electrons[\"AnalysisElectronsAuxDyn.phi\"],\n",
    "    \"mass\" : Electrons[\"AnalysisElectronsAuxDyn.m\"],\n",
    "    \"charge\" : Electrons[\"AnalysisElectronsAuxDyn.charge\"]\n",
    "})\n",
    "mu = ak.zip({\n",
    "    \"pt\" : Muons[\"AnalysisMuonsAuxDyn.pt\"],\n",
    "    \"eta\" : Muons[\"AnalysisMuonsAuxDyn.eta\"],\n",
    "    \"phi\" : Muons[\"AnalysisMuonsAuxDyn.phi\"],\n",
    "    \"charge\" : Muons[\"AnalysisMuonsAuxDyn.charge\"]\n",
    "})"
   ]
  },
  {
   "cell_type": "markdown",
   "id": "5b304d82-4e33-463b-8c1c-0765266eda58",
   "metadata": {},
   "source": [
    "Calculate the tranverse momentum components for electrons and Energy, using the above.  "
   ]
  },
  {
   "cell_type": "code",
   "execution_count": 54,
   "id": "55e54192-e24e-46ed-8ee1-e6e468b1d99e",
   "metadata": {},
   "outputs": [],
   "source": [
    "# Fn. To Calculate Invm\n",
    "def Px(pt, phi):\n",
    "    return pt*np.cos(phi)\n",
    "\n",
    "def Py(pt,phi):\n",
    "    return pt*np.sin(phi)\n",
    "\n",
    "def Pz(pt,eta):\n",
    "    return pt*np.sinh(eta)\n",
    "\n",
    "def E(pt, eta, m):\n",
    "    return np.sqrt(pt**2 * np.cosh(eta)**2 + m**2)\n",
    "\n",
    "e_px = Px(e.pt,e.phi)\n",
    "e_py = Py(e.pt,e.phi)\n",
    "e_pz = Pz(e.pt,e.eta)\n",
    "e_E = E(e.pt,e.eta,e.mass)"
   ]
  },
  {
   "cell_type": "markdown",
   "id": "4bc63fdd-5e35-418a-b4c1-7fd3623ca56c",
   "metadata": {},
   "source": [
    "The invariant mass of two oppositely charged leptons is defined as [blah blah]. Create a function, using the functions above for energy and momentum components, that calculates the invariant mass in GeV."
   ]
  },
  {
   "cell_type": "code",
   "execution_count": null,
   "id": "524f12ae-b4f9-47e2-ac1a-c2441d942374",
   "metadata": {},
   "outputs": [],
   "source": [
    "def calc_invm(p1, p2):\n",
    "    sumpx = Px(p1.pt,p1.phi) + Px(p2.pt,p2.phi)\n",
    "    sumpy = Py(p1.pt, p1.phi) + Py(p2.pt,p2.phi)\n",
    "    sumpz = Pz(p1.pt,p1.eta) + Pz(p2.pt,p2.eta)\n",
    "    try:\n",
    "        sumE = E(p1.pt,p1.eta,p1.mass) + E(p2.pt,p2.eta,p2.mass)\n",
    "    except AttributeError:\n",
    "        sumE = E(p1.pt,p1.eta,0) + E(p2.pt,p2.eta,0)    \n",
    "    \n",
    "    invm = np.sqrt(sumE**2 - sumpx**2 - sumpy**2 - sumpz**2)\n",
    "    return invm/1000.0"
   ]
  },
  {
   "cell_type": "markdown",
   "id": "fe5a7659-2406-4ab3-88af-94e77939f643",
   "metadata": {},
   "source": [
    "### Data Selection"
   ]
  },
  {
   "cell_type": "code",
   "execution_count": 55,
   "id": "e5903364-37b1-43e2-aae2-ffb05318b0bb",
   "metadata": {},
   "outputs": [],
   "source": [
    "# do some data selection example "
   ]
  },
  {
   "cell_type": "markdown",
   "id": "fc64dced-d0e6-4cef-9f0d-eb3357564874",
   "metadata": {},
   "source": [
    "Make a selection for muons and electrons with pt greater than 25 GeV and events with more than 2 leptons. "
   ]
  },
  {
   "cell_type": "code",
   "execution_count": 7,
   "id": "37a7ead6-b981-4432-9404-f045fa3848ca",
   "metadata": {},
   "outputs": [],
   "source": [
    "def selection_calc(lepton):\n",
    "    cut = ((lepton.pt > 25000) & (ak.num(lepton.charge) >= 2))\n",
    "    data_cut = lepton[cut]\n",
    "    pairs = ak.flatten(ak.combinations(data_cut, 2, axis = 1))\n",
    "    opp_charge = pairs[(ak.prod([pairs[:][\"0\"].charge, pairs[:][\"1\"].charge], axis =0) == -1)]\n",
    "    invm = calc_invm(opp_charge[:][\"0\"],opp_charge[:][\"1\"])\n",
    "    return invm"
   ]
  },
  {
   "cell_type": "code",
   "execution_count": 16,
   "id": "6e5f4e8d-0640-41d5-a1b3-b3666f6d5bb2",
   "metadata": {},
   "outputs": [],
   "source": [
    "e_invm = selection_calc(e)\n",
    "m_invm = selection_calc(mu)\n",
    "leptons = np.concatenate((e_invm,m_invm))"
   ]
  },
  {
   "cell_type": "code",
   "execution_count": 18,
   "id": "fde7926b-4ce7-425e-982b-39060a75a766",
   "metadata": {},
   "outputs": [
    {
     "data": {
      "text/plain": [
       "Text(0.5, 0, '[GeV]')"
      ]
     },
     "execution_count": 18,
     "metadata": {},
     "output_type": "execute_result"
    },
    {
     "data": {
      "image/png": "[encoded data removed]",
      "text/plain": [
       "<Figure size 640x480 with 1 Axes>"
      ]
     },
     "metadata": {},
     "output_type": "display_data"
    }
   ],
   "source": [
    "import matplotlib.pyplot as plt\n",
    "plt.hist(leptons, bins=np.arange(min(leptons),max(leptons) +2) - 0.5)\n",
    "plt.title(\"Lepton Invariant Mass\")\n",
    "plt.xlabel(\"[GeV]\")"
   ]
  }
 ],
 "metadata": {
  "kernelspec": {
   "display_name": "Python 3 (ipykernel)",
   "language": "python",
   "name": "python3"
  },
  "language_info": {
   "codemirror_mode": {
    "name": "ipython",
    "version": 3
   },
   "file_extension": ".py",
   "mimetype": "text/x-python",
   "name": "python",
   "nbconvert_exporter": "python",
   "pygments_lexer": "ipython3",
   "version": "3.11.5"
  }
 },
 "nbformat": 4,
 "nbformat_minor": 5
}
