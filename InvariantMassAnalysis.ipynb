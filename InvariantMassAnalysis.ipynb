{
 "cells": [
  {
   "cell_type": "code",
   "execution_count": 2,
   "id": "dc1c043a-5439-4cb4-b935-4c9b9a2c784c",
   "metadata": {},
   "outputs": [],
   "source": [
    "import uproot\n",
    "import awkward as ak\n",
    "import numpy as np"
   ]
  },
  {
   "cell_type": "code",
   "execution_count": 3,
   "id": "8304287a-bfb4-44af-a79d-42718181c040",
   "metadata": {},
   "outputs": [],
   "source": [
    "# open file: https://opendata.cern.ch/record/80010 MC simulation electroweak boson nominal samples\n",
    "# mc20_13TeV_MC_Sh_2211_Zmumu_maxHTpTV2_BFilter_file_index.json\n",
    "file = uproot.open(\"DAOD_PHYSLITE.37621365._000015.pool.root.1\")"
   ]
  },
  {
   "cell_type": "markdown",
   "id": "b8ba9ee5-a491-4011-907e-3a08ff85c5bc",
   "metadata": {},
   "source": [
    "### Get to know your data\n",
    "What objects are in this file? What's the name of the ttree? "
   ]
  },
  {
   "cell_type": "code",
   "execution_count": 56,
   "id": "1a0fc10c-87b8-4523-a77c-92cfef3dca8e",
   "metadata": {},
   "outputs": [],
   "source": [
    "#file.keys()"
   ]
  },
  {
   "cell_type": "code",
   "execution_count": 44,
   "id": "39261ea5-bfcd-4a89-8666-95b75eb2ab0b",
   "metadata": {},
   "outputs": [],
   "source": [
    "# accessing ttree\n",
    "# tree = file[\"insert_tree_name_here\"]\n",
    "tree = file[\"CollectionTree\"]"
   ]
  },
  {
   "cell_type": "markdown",
   "id": "e774fc15-f269-477e-8b71-56bf5ea2bd69",
   "metadata": {},
   "source": [
    "How many branches are in this ttree? "
   ]
  },
  {
   "cell_type": "code",
   "execution_count": 53,
   "id": "41c7fdff-38fa-4458-a778-3160fb751391",
   "metadata": {},
   "outputs": [
    {
     "name": "stdout",
     "output_type": "stream",
     "text": [
      "Number of branches: 1360\n"
     ]
    }
   ],
   "source": [
    "#len(tree)\n",
    "#tree.keys()\n",
    "#tree.show()\n",
    "print(\"Number of branches:\", len(tree))"
   ]
  },
  {
   "cell_type": "markdown",
   "id": "f18edbb6-6732-404c-9c7b-fb9469181a8a",
   "metadata": {},
   "source": [
    "We can read TBranches as arrays using tree.arrays([insert_list_of_branch_names_here]). Fill in the blanks associated with Muons."
   ]
  },
  {
   "cell_type": "code",
   "execution_count": 7,
   "id": "0696f3cf-13bb-49b5-ba52-6d50320a26b6",
   "metadata": {},
   "outputs": [],
   "source": [
    "Electrons = tree.arrays([\"AnalysisElectronsAuxDyn.charge\", \"AnalysisElectronsAuxDyn.pt\",\"AnalysisElectronsAuxDyn.eta\", \"AnalysisElectronsAuxDyn.phi\",\"AnalysisElectronsAuxDyn.m\"])\n",
    "# Muons = tree.arrays([...])\n",
    "Muons = tree.arrays([\"AnalysisMuonsAuxDyn.charge\", \"AnalysisMuonsAuxDyn.pt\",\"AnalysisMuonsAuxDyn.eta\", \"AnalysisMuonsAuxDyn.phi\"])"
   ]
  },
  {
   "cell_type": "markdown",
   "id": "efeb7028-3673-4c80-a0cf-e91d650dfff3",
   "metadata": {},
   "source": [
    "How many events are in this tree? "
   ]
  },
  {
   "cell_type": "code",
   "execution_count": 58,
   "id": "904042e9-2987-46b9-abdc-c83a232d7fb6",
   "metadata": {},
   "outputs": [
    {
     "name": "stdout",
     "output_type": "stream",
     "text": [
      "Number of events: 200000\n"
     ]
    }
   ],
   "source": [
    "#len(Electrons)\n",
    "print(\"Number of events:\", len(Muons))"
   ]
  },
  {
   "cell_type": "markdown",
   "id": "5a2c373b-69b0-4723-8f09-4580f6e2c8ca",
   "metadata": {},
   "source": [
    "[give some explanation about event ordering] How many electrons are in the 80th event? What are their charges. How many muons are in the 80th event? What are their charges?"
   ]
  },
  {
   "cell_type": "code",
   "execution_count": 34,
   "id": "0c3a0dac-01d5-4310-8a75-b18dd3f71f65",
   "metadata": {},
   "outputs": [
    {
     "data": {
      "text/html": [
       "<pre>[1,\n",
       " -1,\n",
       " -1,\n",
       " 1]\n",
       "-----------------\n",
       "type: 4 * float32</pre>"
      ],
      "text/plain": [
       "<Array [1, -1, -1, 1] type='4 * float32'>"
      ]
     },
     "execution_count": 34,
     "metadata": {},
     "output_type": "execute_result"
    }
   ],
   "source": [
    "# 4 electrons with charges:\n",
    "Electrons[\"AnalysisElectronsAuxDyn.charge\"][79]"
   ]
  },
  {
   "cell_type": "code",
   "execution_count": 35,
   "id": "c8dbcc62-6f66-4fbe-ba71-9e5abb6e2625",
   "metadata": {},
   "outputs": [
    {
     "data": {
      "text/html": [
       "<pre>[1,\n",
       " 1]\n",
       "-----------------\n",
       "type: 2 * float32</pre>"
      ],
      "text/plain": [
       "<Array [1, 1] type='2 * float32'>"
      ]
     },
     "execution_count": 35,
     "metadata": {},
     "output_type": "execute_result"
    }
   ],
   "source": [
    "# 2 muon with charge:\n",
    "Muons[\"AnalysisMuonsAuxDyn.charge\"][79]"
   ]
  },
  {
   "cell_type": "markdown",
   "id": "dc512a8e-d98c-4800-86b5-77bcae2bdf41",
   "metadata": {},
   "source": [
    "To make our lives easier, [ak.zip](https://awkward-array.org/doc/main/reference/generated/ak.zip.html) combines arrays into a single structure as a collection of records. "
   ]
  },
  {
   "cell_type": "code",
   "execution_count": 10,
   "id": "c8b60945-4dd4-486b-bd62-038e153fff09",
   "metadata": {},
   "outputs": [],
   "source": [
    "e = ak.zip({\n",
    "    \"pt\" : Electrons[\"AnalysisElectronsAuxDyn.pt\"],\n",
    "    \"eta\" : Electrons[\"AnalysisElectronsAuxDyn.eta\"],\n",
    "    \"phi\" : Electrons[\"AnalysisElectronsAuxDyn.phi\"],\n",
    "    \"mass\" : Electrons[\"AnalysisElectronsAuxDyn.m\"],\n",
    "    \"charge\" : Electrons[\"AnalysisElectronsAuxDyn.charge\"]\n",
    "})\n",
    "mu = ak.zip({\n",
    "    \"pt\" : Muons[\"AnalysisMuonsAuxDyn.pt\"],\n",
    "    \"eta\" : Muons[\"AnalysisMuonsAuxDyn.eta\"],\n",
    "    \"phi\" : Muons[\"AnalysisMuonsAuxDyn.phi\"],\n",
    "    \"charge\" : Muons[\"AnalysisMuonsAuxDyn.charge\"]\n",
    "})"
   ]
  },
  {
   "cell_type": "markdown",
   "id": "2a82ceb6-0a7b-4263-946d-dbb11022bfb9",
   "metadata": {},
   "source": [
    "What's the total number of electrons in the data set? What about muons? The function [ak.num](https://awkward-array.org/doc/main/reference/generated/ak.num.html) may help."
   ]
  },
  {
   "cell_type": "code",
   "execution_count": 64,
   "id": "71599b06-c394-4211-bdb2-801d8160ef0c",
   "metadata": {},
   "outputs": [
    {
     "name": "stdout",
     "output_type": "stream",
     "text": [
      "Total number of electrons:  54852\n",
      "Total number of muons:  397347\n"
     ]
    }
   ],
   "source": [
    "print(\"Total number of electrons: \", sum(ak.num(e)))\n",
    "print(\"Total number of muons: \", sum(ak.num(mu)))"
   ]
  },
  {
   "cell_type": "markdown",
   "id": "5deeaf92-5088-4533-8d8b-f7e479a08003",
   "metadata": {},
   "source": [
    "## Ready for analysis"
   ]
  },
  {
   "cell_type": "markdown",
   "id": "5b304d82-4e33-463b-8c1c-0765266eda58",
   "metadata": {},
   "source": [
    "Calculate the tranverse momentum components for electrons and Energy, using the above.  "
   ]
  },
  {
   "cell_type": "code",
   "execution_count": 36,
   "id": "55e54192-e24e-46ed-8ee1-e6e468b1d99e",
   "metadata": {},
   "outputs": [],
   "source": [
    "#  Momentum components\n",
    "def Px(pt, phi):\n",
    "    return pt*np.cos(phi)\n",
    "\n",
    "def Py(pt,phi):\n",
    "    return pt*np.sin(phi)\n",
    "\n",
    "def Pz(pt,eta):\n",
    "    return pt*np.sinh(eta)\n",
    "\n",
    "def E(pt, eta, m):\n",
    "    return np.sqrt(pt**2 * np.cosh(eta)**2 + m**2)\n",
    "\n",
    "e_px = Px(e.pt,e.phi)\n",
    "e_py = Py(e.pt,e.phi)\n",
    "e_pz = Pz(e.pt,e.eta)\n",
    "e_E = E(e.pt,e.eta,e.mass)"
   ]
  },
  {
   "cell_type": "markdown",
   "id": "4bc63fdd-5e35-418a-b4c1-7fd3623ca56c",
   "metadata": {},
   "source": [
    "The invariant mass of two oppositely charged leptons is defined as:\n",
    "\\begin{equation}\n",
    "m_0 = \\sqrt{(\\sum{E})^2-(\\sum{p_x})^2-(\\sum{p_y})^2-(\\sum{p_z})^2}\n",
    "\\end{equation}\n",
    "\n",
    "Create a function, using the functions above for energy and momentum components, that calculates the invariant mass in GeV."
   ]
  },
  {
   "cell_type": "code",
   "execution_count": 12,
   "id": "524f12ae-b4f9-47e2-ac1a-c2441d942374",
   "metadata": {},
   "outputs": [],
   "source": [
    "def calc_invm(p1, p2):\n",
    "    sumpx = Px(p1.pt,p1.phi) + Px(p2.pt,p2.phi)\n",
    "    sumpy = Py(p1.pt, p1.phi) + Py(p2.pt,p2.phi)\n",
    "    sumpz = Pz(p1.pt,p1.eta) + Pz(p2.pt,p2.eta)\n",
    "    try:\n",
    "        sumE = E(p1.pt,p1.eta,p1.mass) + E(p2.pt,p2.eta,p2.mass)\n",
    "    except AttributeError:\n",
    "        sumE = E(p1.pt,p1.eta,0) + E(p2.pt,p2.eta,0)    \n",
    "    \n",
    "    invm = np.sqrt(sumE**2 - sumpx**2 - sumpy**2 - sumpz**2)\n",
    "    return invm/1000.0"
   ]
  },
  {
   "cell_type": "markdown",
   "id": "fe5a7659-2406-4ab3-88af-94e77939f643",
   "metadata": {},
   "source": [
    "### Data Selection\n",
    "\n",
    "As shown in Frank's workshop, we can mask awkward arrays to apply cuts for data selection. "
   ]
  },
  {
   "cell_type": "markdown",
   "id": "fc64dced-d0e6-4cef-9f0d-eb3357564874",
   "metadata": {},
   "source": [
    "Make a selection of events with more than two electrons and with electron pt greater than 25 GeV. This should leave you with a total of 2130 electrons. "
   ]
  },
  {
   "cell_type": "code",
   "execution_count": 65,
   "id": "296e0c8a-5cc2-44ee-81d9-a17618a7dcb9",
   "metadata": {},
   "outputs": [
    {
     "data": {
      "text/plain": [
       "2130"
      ]
     },
     "execution_count": 65,
     "metadata": {},
     "output_type": "execute_result"
    }
   ],
   "source": [
    "#e_cut = (__insert_cut_here)\n",
    "e_cut = ((e.pt>25000) & (ak.num(e.charge) >=2))\n",
    "cleaned_e = e[e_cut]\n",
    "# check \n",
    "sum(ak.num(cleaned_e))"
   ]
  },
  {
   "cell_type": "markdown",
   "id": "da84a6bd-71ac-46a5-a82f-7cb0dd10c26d",
   "metadata": {},
   "source": []
  },
  {
   "cell_type": "code",
   "execution_count": 68,
   "id": "37a7ead6-b981-4432-9404-f045fa3848ca",
   "metadata": {},
   "outputs": [],
   "source": [
    "# function answer (might be hw to do it for muons and combine)\n",
    "def selection_calc(lepton):\n",
    "    cut = ((lepton.pt > 25000) & (ak.num(lepton.charge) >= 2))\n",
    "    data_cut = lepton[cut]\n",
    "    pairs = ak.flatten(ak.combinations(data_cut, 2, axis = 1))\n",
    "    opp_charge = pairs[(ak.prod([pairs[:][\"0\"].charge, pairs[:][\"1\"].charge], axis =0) == -1)]\n",
    "    invm = calc_invm(opp_charge[:][\"0\"],opp_charge[:][\"1\"])\n",
    "    return invm"
   ]
  },
  {
   "cell_type": "code",
   "execution_count": 15,
   "id": "6e5f4e8d-0640-41d5-a1b3-b3666f6d5bb2",
   "metadata": {},
   "outputs": [],
   "source": [
    "e_invm = selection_calc(e)\n",
    "m_invm = selection_calc(mu)\n",
    "leptons = np.concatenate((e_invm,m_invm))"
   ]
  },
  {
   "cell_type": "code",
   "execution_count": 20,
   "id": "ff8470cb-b381-4dc8-bb89-39a35379d090",
   "metadata": {},
   "outputs": [
    {
     "name": "stdout",
     "output_type": "stream",
     "text": [
      "The peak of the histogram is at 90.23515102267265 GeV with 10370.0 counts.\n"
     ]
    },
    {
     "data": {
      "image/png": "[encoded data removed]",
      "text/plain": [
       "<Figure size 640x480 with 1 Axes>"
      ]
     },
     "metadata": {},
     "output_type": "display_data"
    }
   ],
   "source": [
    "import matplotlib.pyplot as plt\n",
    "\n",
    "bin_edges = np.arange(min(leptons), max(leptons) + 5) - 0.5\n",
    "counts, bins, _ = plt.hist(leptons, bins=bin_edges, edgecolor='pink')\n",
    "\n",
    "plt.title(\"Lepton Invariant Mass\")\n",
    "plt.xlabel(\"[GeV]\")\n",
    "plt.ylabel(\"Counts\")\n",
    "\n",
    "# Find the bin with the highest count (the peak)\n",
    "peak_bin_index = np.argmax(counts)  # Index of the bin with the highest count\n",
    "peak_bin_center = (bins[peak_bin_index] + bins[peak_bin_index + 1]) / 2  # Bin center\n",
    "\n",
    "print(f\"The peak of the histogram is at {peak_bin_center} GeV with {counts[peak_bin_index]} counts.\")\n",
    "plt.show()"
   ]
  },
  {
   "cell_type": "code",
   "execution_count": null,
   "id": "f4f91902-50f7-43af-8a94-1e54deb8e579",
   "metadata": {},
   "outputs": [],
   "source": []
  }
 ],
 "metadata": {
  "kernelspec": {
   "display_name": "Python 3 (ipykernel)",
   "language": "python",
   "name": "python3"
  },
  "language_info": {
   "codemirror_mode": {
    "name": "ipython",
    "version": 3
   },
   "file_extension": ".py",
   "mimetype": "text/x-python",
   "name": "python",
   "nbconvert_exporter": "python",
   "pygments_lexer": "ipython3",
   "version": "3.11.5"
  }
 },
 "nbformat": 4,
 "nbformat_minor": 5
}
